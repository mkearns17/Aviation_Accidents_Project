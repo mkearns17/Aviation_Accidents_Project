{
 "cells": [
  {
   "cell_type": "markdown",
   "id": "7b50f686-ba63-4c9c-b508-e507a64a2750",
   "metadata": {},
   "source": [
    "# Aviation Accident Analysis"
   ]
  },
  {
   "cell_type": "markdown",
   "id": "08aa7881-6680-430c-8b6b-72b443e00e8c",
   "metadata": {},
   "source": [
    "# Business Understanding"
   ]
  },
  {
   "cell_type": "markdown",
   "id": "a8848f8b-33e1-4183-9b55-9d0828dd4d98",
   "metadata": {},
   "source": [
    "The company is planning to diversify by purchasing and operating airplanes for commercial and private enterprises. The Head of Aviation will decide on which airplane to purchase. Therefore, they need insights into which aircraft will assume the least amount of risk to the company and provide the most safety for the customer."
   ]
  },
  {
   "cell_type": "markdown",
   "id": "a39a1114-309e-41e1-9f97-2ae85a8f5de5",
   "metadata": {},
   "source": [
    "# Data Understanding"
   ]
  },
  {
   "cell_type": "markdown",
   "id": "acf88916-63cb-441a-906a-5517e07b2f0a",
   "metadata": {},
   "source": [
    "The dataset used for analysis is provided by the National Transportation Safety Board, and it includes civil aviation accidents and other selected incidents from 1962 to 2023. This step is focused on understanding what is in the dataset so it can be further analyzed to answer the business question."
   ]
  },
  {
   "cell_type": "code",
   "execution_count": 14,
   "id": "184ed548-d7d6-47d5-8799-1e603ba0c8c8",
   "metadata": {},
   "outputs": [],
   "source": [
    "import pandas as pd\n",
    "import matplotlib.pyplot as plt"
   ]
  },
  {
   "cell_type": "code",
   "execution_count": 15,
   "id": "b399e6dd-60fb-4dc6-991e-13a54c74cd19",
   "metadata": {},
   "outputs": [
    {
     "name": "stderr",
     "output_type": "stream",
     "text": [
      "/var/folders/sk/8hr8rsms4cb5y3ryy9w5yplh0000gn/T/ipykernel_75597/3088602378.py:2: DtypeWarning: Columns (6,7,28) have mixed types. Specify dtype option on import or set low_memory=False.\n",
      "  aviation_df = pd.read_csv('./data/AviationData.csv', encoding='latin-1')\n"
     ]
    }
   ],
   "source": [
    "#import aviation and us stat code csv files\n",
    "aviation_df = pd.read_csv('./data/AviationData.csv', encoding='latin-1')\n",
    "us_state_df = pd.read_csv('./data/USState_Codes.csv', encoding='latin-1')"
   ]
  },
  {
   "cell_type": "code",
   "execution_count": 17,
   "id": "9c1da7e3-6400-471c-b179-f2e683608a46",
   "metadata": {},
   "outputs": [
    {
     "data": {
      "text/plain": [
       "(88889, 31)"
      ]
     },
     "execution_count": 17,
     "metadata": {},
     "output_type": "execute_result"
    }
   ],
   "source": [
    "#Print the shape of aviation_df\n",
    "aviation_df.shape"
   ]
  },
  {
   "cell_type": "code",
   "execution_count": 18,
   "id": "45bae8ca-e0db-44b1-b039-5ad487d6863f",
   "metadata": {},
   "outputs": [
    {
     "data": {
      "text/plain": [
       "Event.Id                   object\n",
       "Investigation.Type         object\n",
       "Accident.Number            object\n",
       "Event.Date                 object\n",
       "Location                   object\n",
       "Country                    object\n",
       "Latitude                   object\n",
       "Longitude                  object\n",
       "Airport.Code               object\n",
       "Airport.Name               object\n",
       "Injury.Severity            object\n",
       "Aircraft.damage            object\n",
       "Aircraft.Category          object\n",
       "Registration.Number        object\n",
       "Make                       object\n",
       "Model                      object\n",
       "Amateur.Built              object\n",
       "Number.of.Engines         float64\n",
       "Engine.Type                object\n",
       "FAR.Description            object\n",
       "Schedule                   object\n",
       "Purpose.of.flight          object\n",
       "Air.carrier                object\n",
       "Total.Fatal.Injuries      float64\n",
       "Total.Serious.Injuries    float64\n",
       "Total.Minor.Injuries      float64\n",
       "Total.Uninjured           float64\n",
       "Weather.Condition          object\n",
       "Broad.phase.of.flight      object\n",
       "Report.Status              object\n",
       "Publication.Date           object\n",
       "dtype: object"
      ]
     },
     "execution_count": 18,
     "metadata": {},
     "output_type": "execute_result"
    }
   ],
   "source": [
    "#Print what data type is in each column\n",
    "aviation_df.dtypes"
   ]
  },
  {
   "cell_type": "code",
   "execution_count": 16,
   "id": "205f9101-64ad-4b10-85d9-40b4c388c180",
   "metadata": {},
   "outputs": [
    {
     "name": "stdout",
     "output_type": "stream",
     "text": [
      "<class 'pandas.core.frame.DataFrame'>\n",
      "RangeIndex: 88889 entries, 0 to 88888\n",
      "Data columns (total 31 columns):\n",
      " #   Column                  Non-Null Count  Dtype  \n",
      "---  ------                  --------------  -----  \n",
      " 0   Event.Id                88889 non-null  object \n",
      " 1   Investigation.Type      88889 non-null  object \n",
      " 2   Accident.Number         88889 non-null  object \n",
      " 3   Event.Date              88889 non-null  object \n",
      " 4   Location                88837 non-null  object \n",
      " 5   Country                 88663 non-null  object \n",
      " 6   Latitude                34382 non-null  object \n",
      " 7   Longitude               34373 non-null  object \n",
      " 8   Airport.Code            50132 non-null  object \n",
      " 9   Airport.Name            52704 non-null  object \n",
      " 10  Injury.Severity         87889 non-null  object \n",
      " 11  Aircraft.damage         85695 non-null  object \n",
      " 12  Aircraft.Category       32287 non-null  object \n",
      " 13  Registration.Number     87507 non-null  object \n",
      " 14  Make                    88826 non-null  object \n",
      " 15  Model                   88797 non-null  object \n",
      " 16  Amateur.Built           88787 non-null  object \n",
      " 17  Number.of.Engines       82805 non-null  float64\n",
      " 18  Engine.Type             81793 non-null  object \n",
      " 19  FAR.Description         32023 non-null  object \n",
      " 20  Schedule                12582 non-null  object \n",
      " 21  Purpose.of.flight       82697 non-null  object \n",
      " 22  Air.carrier             16648 non-null  object \n",
      " 23  Total.Fatal.Injuries    77488 non-null  float64\n",
      " 24  Total.Serious.Injuries  76379 non-null  float64\n",
      " 25  Total.Minor.Injuries    76956 non-null  float64\n",
      " 26  Total.Uninjured         82977 non-null  float64\n",
      " 27  Weather.Condition       84397 non-null  object \n",
      " 28  Broad.phase.of.flight   61724 non-null  object \n",
      " 29  Report.Status           82505 non-null  object \n",
      " 30  Publication.Date        75118 non-null  object \n",
      "dtypes: float64(5), object(26)\n",
      "memory usage: 21.0+ MB\n"
     ]
    }
   ],
   "source": [
    "#print general information of aviation_df\n",
    "aviation_df.info()"
   ]
  },
  {
   "cell_type": "code",
   "execution_count": null,
   "id": "1a65bc41-9dd3-4032-8849-51bf6a2b3778",
   "metadata": {},
   "outputs": [],
   "source": [
    "# Determine how much of each column is missing data as a percentage."
   ]
  },
  {
   "cell_type": "code",
   "execution_count": null,
   "id": "fa501d24-b9df-402b-a1cb-ede87720540e",
   "metadata": {},
   "outputs": [],
   "source": [
    "# Summarize what data is missing. "
   ]
  },
  {
   "cell_type": "markdown",
   "id": "27a3a586-4b35-40df-9cfd-686081ff2c00",
   "metadata": {},
   "source": [
    "## Data Preparation"
   ]
  },
  {
   "cell_type": "markdown",
   "id": "bf81a5b9-d4aa-43e9-9380-91763fe87ee0",
   "metadata": {},
   "source": []
  },
  {
   "cell_type": "code",
   "execution_count": null,
   "id": "23cc2247-3ba3-4656-89f4-02b9ab727640",
   "metadata": {},
   "outputs": [],
   "source": [
    "#Parse data for important data"
   ]
  },
  {
   "cell_type": "code",
   "execution_count": null,
   "id": "b4c2ab93-b921-4520-b115-db8236992845",
   "metadata": {},
   "outputs": [],
   "source": [
    "#Clean data"
   ]
  },
  {
   "cell_type": "markdown",
   "id": "10851897-34a1-4684-a36e-0447a8061f74",
   "metadata": {},
   "source": [
    "# Exploratory Data Analysis"
   ]
  },
  {
   "cell_type": "markdown",
   "id": "725a0891-956c-4393-b5a2-282d888ac004",
   "metadata": {},
   "source": []
  },
  {
   "cell_type": "code",
   "execution_count": null,
   "id": "fdd7f616-236d-43bd-9008-76b7aa522f1a",
   "metadata": {},
   "outputs": [],
   "source": [
    "#group data\n",
    "#statistical analysis\n",
    "#aggreagate data"
   ]
  },
  {
   "cell_type": "markdown",
   "id": "bb435ad5-5585-478c-9c8f-bb5bceef07fc",
   "metadata": {},
   "source": [
    "# Conclusion"
   ]
  },
  {
   "cell_type": "markdown",
   "id": "44d0b434-8727-4415-80a5-a8ddc0fe6a39",
   "metadata": {},
   "source": []
  },
  {
   "cell_type": "markdown",
   "id": "7b6f2b9a-031c-46e2-8591-b17b0f1d3c75",
   "metadata": {},
   "source": [
    "## Limitations"
   ]
  },
  {
   "cell_type": "markdown",
   "id": "ed391abd-89c0-4dee-8ea6-383539d058a1",
   "metadata": {},
   "source": []
  },
  {
   "cell_type": "markdown",
   "id": "e4696c49-fa2a-4351-b398-1a98513f4a2b",
   "metadata": {},
   "source": [
    "## Recommendations "
   ]
  },
  {
   "cell_type": "markdown",
   "id": "1b2802ea-07cf-4b03-98c2-6ec9ea913d8f",
   "metadata": {},
   "source": []
  },
  {
   "cell_type": "markdown",
   "id": "92c75d53-c4b6-45df-bf2c-2fe5f5cb70dc",
   "metadata": {},
   "source": [
    "## Next Steps"
   ]
  },
  {
   "cell_type": "markdown",
   "id": "da9c2046-dcf4-49d5-97d3-821a93af6f7b",
   "metadata": {},
   "source": []
  }
 ],
 "metadata": {
  "kernelspec": {
   "display_name": "Python (my-learn-env)",
   "language": "python",
   "name": "learn-env"
  },
  "language_info": {
   "codemirror_mode": {
    "name": "ipython",
    "version": 3
   },
   "file_extension": ".py",
   "mimetype": "text/x-python",
   "name": "python",
   "nbconvert_exporter": "python",
   "pygments_lexer": "ipython3",
   "version": "3.8.5"
  }
 },
 "nbformat": 4,
 "nbformat_minor": 5
}
