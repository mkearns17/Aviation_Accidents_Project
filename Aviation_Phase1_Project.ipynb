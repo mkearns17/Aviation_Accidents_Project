{
 "cells": [
  {
   "cell_type": "markdown",
   "id": "08aa7881-6680-430c-8b6b-72b443e00e8c",
   "metadata": {},
   "source": [
    "# Business Understanding"
   ]
  },
  {
   "cell_type": "markdown",
   "id": "a8848f8b-33e1-4183-9b55-9d0828dd4d98",
   "metadata": {},
   "source": []
  },
  {
   "cell_type": "markdown",
   "id": "a39a1114-309e-41e1-9f97-2ae85a8f5de5",
   "metadata": {},
   "source": [
    "# Data Understanding"
   ]
  },
  {
   "cell_type": "markdown",
   "id": "acf88916-63cb-441a-906a-5517e07b2f0a",
   "metadata": {},
   "source": []
  },
  {
   "cell_type": "markdown",
   "id": "27a3a586-4b35-40df-9cfd-686081ff2c00",
   "metadata": {},
   "source": [
    "## Data Preparation"
   ]
  },
  {
   "cell_type": "markdown",
   "id": "bf81a5b9-d4aa-43e9-9380-91763fe87ee0",
   "metadata": {},
   "source": []
  },
  {
   "cell_type": "code",
   "execution_count": null,
   "id": "23cc2247-3ba3-4656-89f4-02b9ab727640",
   "metadata": {},
   "outputs": [],
   "source": []
  },
  {
   "cell_type": "markdown",
   "id": "10851897-34a1-4684-a36e-0447a8061f74",
   "metadata": {},
   "source": [
    "# Exploratory Data Analysis"
   ]
  },
  {
   "cell_type": "markdown",
   "id": "725a0891-956c-4393-b5a2-282d888ac004",
   "metadata": {},
   "source": []
  },
  {
   "cell_type": "code",
   "execution_count": null,
   "id": "fdd7f616-236d-43bd-9008-76b7aa522f1a",
   "metadata": {},
   "outputs": [],
   "source": []
  },
  {
   "cell_type": "markdown",
   "id": "bb435ad5-5585-478c-9c8f-bb5bceef07fc",
   "metadata": {},
   "source": [
    "# Conclusion"
   ]
  },
  {
   "cell_type": "markdown",
   "id": "44d0b434-8727-4415-80a5-a8ddc0fe6a39",
   "metadata": {},
   "source": []
  },
  {
   "cell_type": "markdown",
   "id": "7b6f2b9a-031c-46e2-8591-b17b0f1d3c75",
   "metadata": {},
   "source": [
    "## Limitations"
   ]
  },
  {
   "cell_type": "markdown",
   "id": "ed391abd-89c0-4dee-8ea6-383539d058a1",
   "metadata": {},
   "source": []
  },
  {
   "cell_type": "markdown",
   "id": "e4696c49-fa2a-4351-b398-1a98513f4a2b",
   "metadata": {},
   "source": [
    "## Recommendations "
   ]
  },
  {
   "cell_type": "markdown",
   "id": "1b2802ea-07cf-4b03-98c2-6ec9ea913d8f",
   "metadata": {},
   "source": []
  },
  {
   "cell_type": "markdown",
   "id": "92c75d53-c4b6-45df-bf2c-2fe5f5cb70dc",
   "metadata": {},
   "source": [
    "## Next Steps"
   ]
  },
  {
   "cell_type": "markdown",
   "id": "da9c2046-dcf4-49d5-97d3-821a93af6f7b",
   "metadata": {},
   "source": []
  }
 ],
 "metadata": {
  "kernelspec": {
   "display_name": "Python (my-learn-env)",
   "language": "python",
   "name": "learn-env"
  },
  "language_info": {
   "codemirror_mode": {
    "name": "ipython",
    "version": 3
   },
   "file_extension": ".py",
   "mimetype": "text/x-python",
   "name": "python",
   "nbconvert_exporter": "python",
   "pygments_lexer": "ipython3",
   "version": "3.8.5"
  }
 },
 "nbformat": 4,
 "nbformat_minor": 5
}
