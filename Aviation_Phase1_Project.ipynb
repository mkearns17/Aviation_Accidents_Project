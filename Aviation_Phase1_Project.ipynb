{
 "cells": [
  {
   "cell_type": "markdown",
   "id": "7b50f686-ba63-4c9c-b508-e507a64a2750",
   "metadata": {},
   "source": [
    "# Aviation Accident Analysis"
   ]
  },
  {
   "cell_type": "markdown",
   "id": "08aa7881-6680-430c-8b6b-72b443e00e8c",
   "metadata": {},
   "source": [
    "# Business Understanding"
   ]
  },
  {
   "cell_type": "markdown",
   "id": "a8848f8b-33e1-4183-9b55-9d0828dd4d98",
   "metadata": {},
   "source": [
    "The company is planning to diversify by purchasing and operating airplanes for commercial and private enterprises. The Head of Aviation has little knowledge of the risk it imposes and will use the insights from this analysis to decide which aircraft to purchase. I will analyze a dataset from the National Transportation Safety Board to determine the safety of plane types and provide multiple suggestions \n",
    "to the Head of Aviation."
   ]
  },
  {
   "cell_type": "markdown",
   "id": "a39a1114-309e-41e1-9f97-2ae85a8f5de5",
   "metadata": {},
   "source": [
    "# Data Understanding"
   ]
  },
  {
   "cell_type": "markdown",
   "id": "acf88916-63cb-441a-906a-5517e07b2f0a",
   "metadata": {},
   "source": [
    "The dataset is provided by the National Transportation Safety Board. It includes civil aviation accidents and other selected incidents from 1962 to 2023. This step is focused on understanding what is in the dataset so it can be further analyzed to answer the business question.\n",
    "\n",
    "Each record of this dataset represents an aviation accident, marked by the \"Event ID\", with information about the plane (make, model, etc.) and the severity of the accident (# of injuries)."
   ]
  },
  {
   "cell_type": "code",
   "execution_count": 1,
   "id": "184ed548-d7d6-47d5-8799-1e603ba0c8c8",
   "metadata": {},
   "outputs": [],
   "source": [
    "import pandas as pd\n",
    "import matplotlib.pyplot as plt\n",
    "\n",
    "%matplotlib inline"
   ]
  },
  {
   "cell_type": "code",
   "execution_count": 2,
   "id": "b399e6dd-60fb-4dc6-991e-13a54c74cd19",
   "metadata": {},
   "outputs": [
    {
     "name": "stderr",
     "output_type": "stream",
     "text": [
      "/var/folders/sk/8hr8rsms4cb5y3ryy9w5yplh0000gn/T/ipykernel_13228/3088602378.py:2: DtypeWarning: Columns (6,7,28) have mixed types. Specify dtype option on import or set low_memory=False.\n",
      "  aviation_df = pd.read_csv('./data/AviationData.csv', encoding='latin-1')\n"
     ]
    }
   ],
   "source": [
    "#import aviation and us stat code csv files\n",
    "aviation_df = pd.read_csv('./data/AviationData.csv', encoding='latin-1')\n",
    "us_state_df = pd.read_csv('./data/USState_Codes.csv', encoding='latin-1')"
   ]
  },
  {
   "cell_type": "code",
   "execution_count": 3,
   "id": "f15d7438-b2b9-45cd-b4fd-dc41552495e5",
   "metadata": {},
   "outputs": [
    {
     "data": {
      "text/html": [
       "<div>\n",
       "<style scoped>\n",
       "    .dataframe tbody tr th:only-of-type {\n",
       "        vertical-align: middle;\n",
       "    }\n",
       "\n",
       "    .dataframe tbody tr th {\n",
       "        vertical-align: top;\n",
       "    }\n",
       "\n",
       "    .dataframe thead th {\n",
       "        text-align: right;\n",
       "    }\n",
       "</style>\n",
       "<table border=\"1\" class=\"dataframe\">\n",
       "  <thead>\n",
       "    <tr style=\"text-align: right;\">\n",
       "      <th></th>\n",
       "      <th>Event.Id</th>\n",
       "      <th>Investigation.Type</th>\n",
       "      <th>Accident.Number</th>\n",
       "      <th>Event.Date</th>\n",
       "      <th>Location</th>\n",
       "      <th>Country</th>\n",
       "      <th>Latitude</th>\n",
       "      <th>Longitude</th>\n",
       "      <th>Airport.Code</th>\n",
       "      <th>Airport.Name</th>\n",
       "      <th>...</th>\n",
       "      <th>Purpose.of.flight</th>\n",
       "      <th>Air.carrier</th>\n",
       "      <th>Total.Fatal.Injuries</th>\n",
       "      <th>Total.Serious.Injuries</th>\n",
       "      <th>Total.Minor.Injuries</th>\n",
       "      <th>Total.Uninjured</th>\n",
       "      <th>Weather.Condition</th>\n",
       "      <th>Broad.phase.of.flight</th>\n",
       "      <th>Report.Status</th>\n",
       "      <th>Publication.Date</th>\n",
       "    </tr>\n",
       "  </thead>\n",
       "  <tbody>\n",
       "    <tr>\n",
       "      <th>0</th>\n",
       "      <td>20001218X45444</td>\n",
       "      <td>Accident</td>\n",
       "      <td>SEA87LA080</td>\n",
       "      <td>1948-10-24</td>\n",
       "      <td>MOOSE CREEK, ID</td>\n",
       "      <td>United States</td>\n",
       "      <td>NaN</td>\n",
       "      <td>NaN</td>\n",
       "      <td>NaN</td>\n",
       "      <td>NaN</td>\n",
       "      <td>...</td>\n",
       "      <td>Personal</td>\n",
       "      <td>NaN</td>\n",
       "      <td>2.0</td>\n",
       "      <td>0.0</td>\n",
       "      <td>0.0</td>\n",
       "      <td>0.0</td>\n",
       "      <td>UNK</td>\n",
       "      <td>Cruise</td>\n",
       "      <td>Probable Cause</td>\n",
       "      <td>NaN</td>\n",
       "    </tr>\n",
       "    <tr>\n",
       "      <th>1</th>\n",
       "      <td>20001218X45447</td>\n",
       "      <td>Accident</td>\n",
       "      <td>LAX94LA336</td>\n",
       "      <td>1962-07-19</td>\n",
       "      <td>BRIDGEPORT, CA</td>\n",
       "      <td>United States</td>\n",
       "      <td>NaN</td>\n",
       "      <td>NaN</td>\n",
       "      <td>NaN</td>\n",
       "      <td>NaN</td>\n",
       "      <td>...</td>\n",
       "      <td>Personal</td>\n",
       "      <td>NaN</td>\n",
       "      <td>4.0</td>\n",
       "      <td>0.0</td>\n",
       "      <td>0.0</td>\n",
       "      <td>0.0</td>\n",
       "      <td>UNK</td>\n",
       "      <td>Unknown</td>\n",
       "      <td>Probable Cause</td>\n",
       "      <td>19-09-1996</td>\n",
       "    </tr>\n",
       "    <tr>\n",
       "      <th>2</th>\n",
       "      <td>20061025X01555</td>\n",
       "      <td>Accident</td>\n",
       "      <td>NYC07LA005</td>\n",
       "      <td>1974-08-30</td>\n",
       "      <td>Saltville, VA</td>\n",
       "      <td>United States</td>\n",
       "      <td>36.922223</td>\n",
       "      <td>-81.878056</td>\n",
       "      <td>NaN</td>\n",
       "      <td>NaN</td>\n",
       "      <td>...</td>\n",
       "      <td>Personal</td>\n",
       "      <td>NaN</td>\n",
       "      <td>3.0</td>\n",
       "      <td>NaN</td>\n",
       "      <td>NaN</td>\n",
       "      <td>NaN</td>\n",
       "      <td>IMC</td>\n",
       "      <td>Cruise</td>\n",
       "      <td>Probable Cause</td>\n",
       "      <td>26-02-2007</td>\n",
       "    </tr>\n",
       "    <tr>\n",
       "      <th>3</th>\n",
       "      <td>20001218X45448</td>\n",
       "      <td>Accident</td>\n",
       "      <td>LAX96LA321</td>\n",
       "      <td>1977-06-19</td>\n",
       "      <td>EUREKA, CA</td>\n",
       "      <td>United States</td>\n",
       "      <td>NaN</td>\n",
       "      <td>NaN</td>\n",
       "      <td>NaN</td>\n",
       "      <td>NaN</td>\n",
       "      <td>...</td>\n",
       "      <td>Personal</td>\n",
       "      <td>NaN</td>\n",
       "      <td>2.0</td>\n",
       "      <td>0.0</td>\n",
       "      <td>0.0</td>\n",
       "      <td>0.0</td>\n",
       "      <td>IMC</td>\n",
       "      <td>Cruise</td>\n",
       "      <td>Probable Cause</td>\n",
       "      <td>12-09-2000</td>\n",
       "    </tr>\n",
       "    <tr>\n",
       "      <th>4</th>\n",
       "      <td>20041105X01764</td>\n",
       "      <td>Accident</td>\n",
       "      <td>CHI79FA064</td>\n",
       "      <td>1979-08-02</td>\n",
       "      <td>Canton, OH</td>\n",
       "      <td>United States</td>\n",
       "      <td>NaN</td>\n",
       "      <td>NaN</td>\n",
       "      <td>NaN</td>\n",
       "      <td>NaN</td>\n",
       "      <td>...</td>\n",
       "      <td>Personal</td>\n",
       "      <td>NaN</td>\n",
       "      <td>1.0</td>\n",
       "      <td>2.0</td>\n",
       "      <td>NaN</td>\n",
       "      <td>0.0</td>\n",
       "      <td>VMC</td>\n",
       "      <td>Approach</td>\n",
       "      <td>Probable Cause</td>\n",
       "      <td>16-04-1980</td>\n",
       "    </tr>\n",
       "  </tbody>\n",
       "</table>\n",
       "<p>5 rows × 31 columns</p>\n",
       "</div>"
      ],
      "text/plain": [
       "         Event.Id Investigation.Type Accident.Number  Event.Date  \\\n",
       "0  20001218X45444           Accident      SEA87LA080  1948-10-24   \n",
       "1  20001218X45447           Accident      LAX94LA336  1962-07-19   \n",
       "2  20061025X01555           Accident      NYC07LA005  1974-08-30   \n",
       "3  20001218X45448           Accident      LAX96LA321  1977-06-19   \n",
       "4  20041105X01764           Accident      CHI79FA064  1979-08-02   \n",
       "\n",
       "          Location        Country   Latitude  Longitude Airport.Code  \\\n",
       "0  MOOSE CREEK, ID  United States        NaN        NaN          NaN   \n",
       "1   BRIDGEPORT, CA  United States        NaN        NaN          NaN   \n",
       "2    Saltville, VA  United States  36.922223 -81.878056          NaN   \n",
       "3       EUREKA, CA  United States        NaN        NaN          NaN   \n",
       "4       Canton, OH  United States        NaN        NaN          NaN   \n",
       "\n",
       "  Airport.Name  ... Purpose.of.flight Air.carrier Total.Fatal.Injuries  \\\n",
       "0          NaN  ...          Personal         NaN                  2.0   \n",
       "1          NaN  ...          Personal         NaN                  4.0   \n",
       "2          NaN  ...          Personal         NaN                  3.0   \n",
       "3          NaN  ...          Personal         NaN                  2.0   \n",
       "4          NaN  ...          Personal         NaN                  1.0   \n",
       "\n",
       "  Total.Serious.Injuries Total.Minor.Injuries Total.Uninjured  \\\n",
       "0                    0.0                  0.0             0.0   \n",
       "1                    0.0                  0.0             0.0   \n",
       "2                    NaN                  NaN             NaN   \n",
       "3                    0.0                  0.0             0.0   \n",
       "4                    2.0                  NaN             0.0   \n",
       "\n",
       "  Weather.Condition  Broad.phase.of.flight   Report.Status Publication.Date  \n",
       "0               UNK                 Cruise  Probable Cause              NaN  \n",
       "1               UNK                Unknown  Probable Cause       19-09-1996  \n",
       "2               IMC                 Cruise  Probable Cause       26-02-2007  \n",
       "3               IMC                 Cruise  Probable Cause       12-09-2000  \n",
       "4               VMC               Approach  Probable Cause       16-04-1980  \n",
       "\n",
       "[5 rows x 31 columns]"
      ]
     },
     "execution_count": 3,
     "metadata": {},
     "output_type": "execute_result"
    }
   ],
   "source": [
    "#Print first few rows of the dataframe\n",
    "aviation_df.head()"
   ]
  },
  {
   "cell_type": "code",
   "execution_count": 4,
   "id": "9c1da7e3-6400-471c-b179-f2e683608a46",
   "metadata": {},
   "outputs": [
    {
     "data": {
      "text/plain": [
       "(88889, 31)"
      ]
     },
     "execution_count": 4,
     "metadata": {},
     "output_type": "execute_result"
    }
   ],
   "source": [
    "#Print the shape of aviation_df\n",
    "aviation_df.shape"
   ]
  },
  {
   "cell_type": "code",
   "execution_count": 5,
   "id": "45bae8ca-e0db-44b1-b039-5ad487d6863f",
   "metadata": {},
   "outputs": [
    {
     "data": {
      "text/plain": [
       "Event.Id                   object\n",
       "Investigation.Type         object\n",
       "Accident.Number            object\n",
       "Event.Date                 object\n",
       "Location                   object\n",
       "Country                    object\n",
       "Latitude                   object\n",
       "Longitude                  object\n",
       "Airport.Code               object\n",
       "Airport.Name               object\n",
       "Injury.Severity            object\n",
       "Aircraft.damage            object\n",
       "Aircraft.Category          object\n",
       "Registration.Number        object\n",
       "Make                       object\n",
       "Model                      object\n",
       "Amateur.Built              object\n",
       "Number.of.Engines         float64\n",
       "Engine.Type                object\n",
       "FAR.Description            object\n",
       "Schedule                   object\n",
       "Purpose.of.flight          object\n",
       "Air.carrier                object\n",
       "Total.Fatal.Injuries      float64\n",
       "Total.Serious.Injuries    float64\n",
       "Total.Minor.Injuries      float64\n",
       "Total.Uninjured           float64\n",
       "Weather.Condition          object\n",
       "Broad.phase.of.flight      object\n",
       "Report.Status              object\n",
       "Publication.Date           object\n",
       "dtype: object"
      ]
     },
     "execution_count": 5,
     "metadata": {},
     "output_type": "execute_result"
    }
   ],
   "source": [
    "#Print what data type is in each column\n",
    "aviation_df.dtypes"
   ]
  },
  {
   "cell_type": "code",
   "execution_count": 6,
   "id": "205f9101-64ad-4b10-85d9-40b4c388c180",
   "metadata": {},
   "outputs": [
    {
     "name": "stdout",
     "output_type": "stream",
     "text": [
      "<class 'pandas.core.frame.DataFrame'>\n",
      "RangeIndex: 88889 entries, 0 to 88888\n",
      "Data columns (total 31 columns):\n",
      " #   Column                  Non-Null Count  Dtype  \n",
      "---  ------                  --------------  -----  \n",
      " 0   Event.Id                88889 non-null  object \n",
      " 1   Investigation.Type      88889 non-null  object \n",
      " 2   Accident.Number         88889 non-null  object \n",
      " 3   Event.Date              88889 non-null  object \n",
      " 4   Location                88837 non-null  object \n",
      " 5   Country                 88663 non-null  object \n",
      " 6   Latitude                34382 non-null  object \n",
      " 7   Longitude               34373 non-null  object \n",
      " 8   Airport.Code            50132 non-null  object \n",
      " 9   Airport.Name            52704 non-null  object \n",
      " 10  Injury.Severity         87889 non-null  object \n",
      " 11  Aircraft.damage         85695 non-null  object \n",
      " 12  Aircraft.Category       32287 non-null  object \n",
      " 13  Registration.Number     87507 non-null  object \n",
      " 14  Make                    88826 non-null  object \n",
      " 15  Model                   88797 non-null  object \n",
      " 16  Amateur.Built           88787 non-null  object \n",
      " 17  Number.of.Engines       82805 non-null  float64\n",
      " 18  Engine.Type             81793 non-null  object \n",
      " 19  FAR.Description         32023 non-null  object \n",
      " 20  Schedule                12582 non-null  object \n",
      " 21  Purpose.of.flight       82697 non-null  object \n",
      " 22  Air.carrier             16648 non-null  object \n",
      " 23  Total.Fatal.Injuries    77488 non-null  float64\n",
      " 24  Total.Serious.Injuries  76379 non-null  float64\n",
      " 25  Total.Minor.Injuries    76956 non-null  float64\n",
      " 26  Total.Uninjured         82977 non-null  float64\n",
      " 27  Weather.Condition       84397 non-null  object \n",
      " 28  Broad.phase.of.flight   61724 non-null  object \n",
      " 29  Report.Status           82505 non-null  object \n",
      " 30  Publication.Date        75118 non-null  object \n",
      "dtypes: float64(5), object(26)\n",
      "memory usage: 21.0+ MB\n"
     ]
    }
   ],
   "source": [
    "#print general information of aviation_df\n",
    "aviation_df.info()"
   ]
  },
  {
   "cell_type": "code",
   "execution_count": 7,
   "id": "8e149bbe-6a28-466b-a99b-a50df04d1d95",
   "metadata": {},
   "outputs": [
    {
     "data": {
      "text/plain": [
       "Event.Id                   0.0\n",
       "Investigation.Type         0.0\n",
       "Accident.Number            0.0\n",
       "Event.Date                 0.0\n",
       "Location                   0.1\n",
       "Country                    0.3\n",
       "Latitude                  61.3\n",
       "Longitude                 61.3\n",
       "Airport.Code              43.6\n",
       "Airport.Name              40.7\n",
       "Injury.Severity            1.1\n",
       "Aircraft.damage            3.6\n",
       "Aircraft.Category         63.7\n",
       "Registration.Number        1.6\n",
       "Make                       0.1\n",
       "Model                      0.1\n",
       "Amateur.Built              0.1\n",
       "Number.of.Engines          6.8\n",
       "Engine.Type                8.0\n",
       "FAR.Description           64.0\n",
       "Schedule                  85.8\n",
       "Purpose.of.flight          7.0\n",
       "Air.carrier               81.3\n",
       "Total.Fatal.Injuries      12.8\n",
       "Total.Serious.Injuries    14.1\n",
       "Total.Minor.Injuries      13.4\n",
       "Total.Uninjured            6.7\n",
       "Weather.Condition          5.1\n",
       "Broad.phase.of.flight     30.6\n",
       "Report.Status              7.2\n",
       "Publication.Date          15.5\n",
       "dtype: float64"
      ]
     },
     "execution_count": 7,
     "metadata": {},
     "output_type": "execute_result"
    }
   ],
   "source": [
    "#Print the percentage of data missing in each column\n",
    "round(aviation_df.isna().sum()/ aviation_df.shape[0] * 100, 1)"
   ]
  },
  {
   "cell_type": "markdown",
   "id": "72730e57-98b4-46bc-becb-d119be1806d9",
   "metadata": {},
   "source": [
    "There are multiple columns with over 50% of it is missing data. The Latitude, Longitude, Aircraft Category, FAR Description, Schedule and Air Carrier columns may not be useful to use in this analysis due to the large amount of missing data. '\n",
    "\n",
    "The injuries columns contain the important data. Less than 15% of the incidents are missing injury data, so it will be useful to remove those rows from the dataset. "
   ]
  },
  {
   "cell_type": "code",
   "execution_count": 8,
   "id": "84235fc7-6b18-4ccd-9049-960649f6e091",
   "metadata": {},
   "outputs": [
    {
     "data": {
      "text/plain": [
       "Make\n",
       "Cessna             22227\n",
       "Piper              12029\n",
       "CESSNA              4922\n",
       "Beech               4330\n",
       "PIPER               2841\n",
       "                   ...  \n",
       "Leonard Walters        1\n",
       "Maule Air Inc.         1\n",
       "Motley Vans            1\n",
       "Perlick                1\n",
       "ROYSE RALPH L          1\n",
       "Name: count, Length: 8237, dtype: int64"
      ]
     },
     "execution_count": 8,
     "metadata": {},
     "output_type": "execute_result"
    }
   ],
   "source": [
    "#Check different Make of Airplanes\n",
    "aviation_df['Make'].value_counts()"
   ]
  },
  {
   "cell_type": "code",
   "execution_count": 9,
   "id": "19396f59-6c51-49d5-989b-1b136906090b",
   "metadata": {},
   "outputs": [
    {
     "data": {
      "text/plain": [
       "Broad.phase.of.flight\n",
       "Landing        15428\n",
       "Takeoff        12493\n",
       "Cruise         10269\n",
       "Maneuvering     8144\n",
       "Approach        6546\n",
       "Climb           2034\n",
       "Taxi            1958\n",
       "Descent         1887\n",
       "Go-around       1353\n",
       "Standing         945\n",
       "Unknown          548\n",
       "Other            119\n",
       "Name: count, dtype: int64"
      ]
     },
     "execution_count": 9,
     "metadata": {},
     "output_type": "execute_result"
    }
   ],
   "source": [
    "#Check different phases of flight when accident occured\n",
    "aviation_df['Broad.phase.of.flight'].value_counts()"
   ]
  },
  {
   "cell_type": "code",
   "execution_count": 10,
   "id": "60c6e7ef-ac1f-44e1-97f9-2f828b150588",
   "metadata": {},
   "outputs": [
    {
     "data": {
      "text/html": [
       "<div>\n",
       "<style scoped>\n",
       "    .dataframe tbody tr th:only-of-type {\n",
       "        vertical-align: middle;\n",
       "    }\n",
       "\n",
       "    .dataframe tbody tr th {\n",
       "        vertical-align: top;\n",
       "    }\n",
       "\n",
       "    .dataframe thead th {\n",
       "        text-align: right;\n",
       "    }\n",
       "</style>\n",
       "<table border=\"1\" class=\"dataframe\">\n",
       "  <thead>\n",
       "    <tr style=\"text-align: right;\">\n",
       "      <th></th>\n",
       "      <th>Event.Id</th>\n",
       "      <th>Investigation.Type</th>\n",
       "      <th>Accident.Number</th>\n",
       "      <th>Event.Date</th>\n",
       "      <th>Location</th>\n",
       "      <th>Country</th>\n",
       "      <th>Latitude</th>\n",
       "      <th>Longitude</th>\n",
       "      <th>Airport.Code</th>\n",
       "      <th>Airport.Name</th>\n",
       "      <th>...</th>\n",
       "      <th>Purpose.of.flight</th>\n",
       "      <th>Air.carrier</th>\n",
       "      <th>Total.Fatal.Injuries</th>\n",
       "      <th>Total.Serious.Injuries</th>\n",
       "      <th>Total.Minor.Injuries</th>\n",
       "      <th>Total.Uninjured</th>\n",
       "      <th>Weather.Condition</th>\n",
       "      <th>Broad.phase.of.flight</th>\n",
       "      <th>Report.Status</th>\n",
       "      <th>Publication.Date</th>\n",
       "    </tr>\n",
       "  </thead>\n",
       "  <tbody>\n",
       "  </tbody>\n",
       "</table>\n",
       "<p>0 rows × 31 columns</p>\n",
       "</div>"
      ],
      "text/plain": [
       "Empty DataFrame\n",
       "Columns: [Event.Id, Investigation.Type, Accident.Number, Event.Date, Location, Country, Latitude, Longitude, Airport.Code, Airport.Name, Injury.Severity, Aircraft.damage, Aircraft.Category, Registration.Number, Make, Model, Amateur.Built, Number.of.Engines, Engine.Type, FAR.Description, Schedule, Purpose.of.flight, Air.carrier, Total.Fatal.Injuries, Total.Serious.Injuries, Total.Minor.Injuries, Total.Uninjured, Weather.Condition, Broad.phase.of.flight, Report.Status, Publication.Date]\n",
       "Index: []\n",
       "\n",
       "[0 rows x 31 columns]"
      ]
     },
     "execution_count": 10,
     "metadata": {},
     "output_type": "execute_result"
    }
   ],
   "source": [
    "#Check for duplicats in the dataframe\n",
    "aviation_df[aviation_df.duplicated()]"
   ]
  },
  {
   "cell_type": "code",
   "execution_count": 11,
   "id": "6b303b71-70c5-4728-9006-19a72dea55d8",
   "metadata": {},
   "outputs": [
    {
     "name": "stdout",
     "output_type": "stream",
     "text": [
      "Event.Id \n",
      " Event.Id\n",
      "20001212X19172    0.000034\n",
      "20001214X45071    0.000034\n",
      "20220730105623    0.000022\n",
      "20051213X01965    0.000022\n",
      "20001212X16765    0.000022\n",
      "Name: proportion, dtype: float64 \n",
      "\n",
      "\n",
      "Investigation.Type \n",
      " Investigation.Type\n",
      "Accident    0.956418\n",
      "Incident    0.043582\n",
      "Name: proportion, dtype: float64 \n",
      "\n",
      "\n",
      "Accident.Number \n",
      " Accident.Number\n",
      "CEN22LA149    0.000022\n",
      "WPR23LA041    0.000022\n",
      "WPR23LA045    0.000022\n",
      "DCA22WA214    0.000022\n",
      "DCA22WA089    0.000022\n",
      "Name: proportion, dtype: float64 \n",
      "\n",
      "\n",
      "Event.Date \n",
      " Event.Date\n",
      "1984-06-30    0.000281\n",
      "1982-05-16    0.000281\n",
      "2000-07-08    0.000281\n",
      "1983-08-05    0.000270\n",
      "1984-08-25    0.000270\n",
      "Name: proportion, dtype: float64 \n",
      "\n",
      "\n",
      "Location \n",
      " Location\n",
      "ANCHORAGE, AK      0.004885\n",
      "MIAMI, FL          0.002251\n",
      "ALBUQUERQUE, NM    0.002206\n",
      "HOUSTON, TX        0.002173\n",
      "CHICAGO, IL        0.002071\n",
      "Name: proportion, dtype: float64 \n",
      "\n",
      "\n",
      "Country \n",
      " Country\n",
      "United States     0.927647\n",
      "Brazil            0.004218\n",
      "Canada            0.004049\n",
      "Mexico            0.004038\n",
      "United Kingdom    0.003880\n",
      "Name: proportion, dtype: float64 \n",
      "\n",
      "\n",
      "Latitude \n",
      " Latitude\n",
      "332739N      0.000553\n",
      "335219N      0.000524\n",
      "334118N      0.000494\n",
      "32.815556    0.000494\n",
      "324934N      0.000465\n",
      "Name: proportion, dtype: float64 \n",
      "\n",
      "\n",
      "Longitude \n",
      " Longitude\n",
      "0112457W       0.000698\n",
      "1114342W       0.000524\n",
      "1151140W       0.000495\n",
      "-104.673056    0.000495\n",
      "1114840W       0.000465\n",
      "Name: proportion, dtype: float64 \n",
      "\n",
      "\n",
      "Airport.Code \n",
      " Airport.Code\n",
      "NONE    0.029682\n",
      "PVT     0.009674\n",
      "APA     0.003192\n",
      "ORD     0.002972\n",
      "MRI     0.002733\n",
      "Name: proportion, dtype: float64 \n",
      "\n",
      "\n",
      "Airport.Name \n",
      " Airport.Name\n",
      "Private             0.004554\n",
      "PRIVATE             0.004250\n",
      "Private Airstrip    0.002903\n",
      "NONE                0.002770\n",
      "PRIVATE STRIP       0.002106\n",
      "Name: proportion, dtype: float64 \n",
      "\n",
      "\n",
      "Injury.Severity \n",
      " Injury.Severity\n",
      "Non-Fatal    0.766387\n",
      "Fatal(1)     0.070168\n",
      "Fatal        0.059871\n",
      "Fatal(2)     0.042224\n",
      "Incident     0.025248\n",
      "Name: proportion, dtype: float64 \n",
      "\n",
      "\n",
      "Aircraft.damage \n",
      " Aircraft.damage\n",
      "Substantial    0.748562\n",
      "Destroyed      0.217317\n",
      "Minor          0.032732\n",
      "Unknown        0.001389\n",
      "Name: proportion, dtype: float64 \n",
      "\n",
      "\n",
      "Aircraft.Category \n",
      " Aircraft.Category\n",
      "Airplane      0.855360\n",
      "Helicopter    0.106544\n",
      "Glider        0.015734\n",
      "Balloon       0.007155\n",
      "Gyrocraft     0.005358\n",
      "Name: proportion, dtype: float64 \n",
      "\n",
      "\n",
      "Registration.Number \n",
      " Registration.Number\n",
      "NONE      0.003931\n",
      "UNREG     0.001440\n",
      "UNK       0.000149\n",
      "USAF      0.000103\n",
      "N20752    0.000091\n",
      "Name: proportion, dtype: float64 \n",
      "\n",
      "\n",
      "Make \n",
      " Make\n",
      "Cessna    0.250231\n",
      "Piper     0.135422\n",
      "CESSNA    0.055412\n",
      "Beech     0.048747\n",
      "PIPER     0.031984\n",
      "Name: proportion, dtype: float64 \n",
      "\n",
      "\n",
      "Model \n",
      " Model\n",
      "152          0.026656\n",
      "172          0.019775\n",
      "172N         0.013109\n",
      "PA-28-140    0.010496\n",
      "150          0.009336\n",
      "Name: proportion, dtype: float64 \n",
      "\n",
      "\n",
      "Amateur.Built \n",
      " Amateur.Built\n",
      "No     0.904547\n",
      "Yes    0.095453\n",
      "Name: proportion, dtype: float64 \n",
      "\n",
      "\n",
      "Number.of.Engines \n",
      " Number.of.Engines\n",
      "1.0    0.840312\n",
      "2.0    0.133796\n",
      "0.0    0.014806\n",
      "3.0    0.005833\n",
      "4.0    0.005205\n",
      "Name: proportion, dtype: float64 \n",
      "\n",
      "\n",
      "Engine.Type \n",
      " Engine.Type\n",
      "Reciprocating    0.850073\n",
      "Turbo Shaft      0.044124\n",
      "Turbo Prop       0.041458\n",
      "Turbo Fan        0.030333\n",
      "Unknown          0.025075\n",
      "Name: proportion, dtype: float64 \n",
      "\n",
      "\n",
      "FAR.Description \n",
      " FAR.Description\n",
      "091                          0.568997\n",
      "Part 91: General Aviation    0.202542\n",
      "NUSN                         0.049464\n",
      "NUSC                         0.031634\n",
      "137                          0.031540\n",
      "Name: proportion, dtype: float64 \n",
      "\n",
      "\n",
      "Schedule \n",
      " Schedule\n",
      "NSCH    0.355587\n",
      "UNK     0.325783\n",
      "SCHD    0.318630\n",
      "Name: proportion, dtype: float64 \n",
      "\n",
      "\n",
      "Purpose.of.flight \n",
      " Purpose.of.flight\n",
      "Personal              0.597942\n",
      "Instructional         0.128191\n",
      "Unknown               0.082252\n",
      "Aerial Application    0.056979\n",
      "Business              0.048587\n",
      "Name: proportion, dtype: float64 \n",
      "\n",
      "\n",
      "Air.carrier \n",
      " Air.carrier\n",
      "Pilot                    0.015497\n",
      "American Airlines        0.005406\n",
      "United Airlines          0.005346\n",
      "Delta Air Lines          0.003184\n",
      "SOUTHWEST AIRLINES CO    0.002523\n",
      "Name: proportion, dtype: float64 \n",
      "\n",
      "\n",
      "Total.Fatal.Injuries \n",
      " Total.Fatal.Injuries\n",
      "0.0    0.770119\n",
      "1.0    0.114637\n",
      "2.0    0.066759\n",
      "3.0    0.020506\n",
      "4.0    0.014234\n",
      "Name: proportion, dtype: float64 \n",
      "\n",
      "\n",
      "Total.Serious.Injuries \n",
      " Total.Serious.Injuries\n",
      "0.0    0.828618\n",
      "1.0    0.119470\n",
      "2.0    0.036856\n",
      "3.0    0.008235\n",
      "4.0    0.003378\n",
      "Name: proportion, dtype: float64 \n",
      "\n",
      "\n",
      "Total.Minor.Injuries \n",
      " Total.Minor.Injuries\n",
      "0.0    0.798560\n",
      "1.0    0.134103\n",
      "2.0    0.046468\n",
      "3.0    0.010188\n",
      "4.0    0.004834\n",
      "Name: proportion, dtype: float64 \n",
      "\n",
      "\n",
      "Total.Uninjured \n",
      " Total.Uninjured\n",
      "0.0    0.360088\n",
      "1.0    0.302506\n",
      "2.0    0.192680\n",
      "3.0    0.051978\n",
      "4.0    0.032081\n",
      "Name: proportion, dtype: float64 \n",
      "\n",
      "\n",
      "Weather.Condition \n",
      " Weather.Condition\n",
      "VMC    0.915945\n",
      "IMC    0.070808\n",
      "UNK    0.010143\n",
      "Unk    0.003104\n",
      "Name: proportion, dtype: float64 \n",
      "\n",
      "\n",
      "Broad.phase.of.flight \n",
      " Broad.phase.of.flight\n",
      "Landing        0.249951\n",
      "Takeoff        0.202401\n",
      "Cruise         0.166370\n",
      "Maneuvering    0.131942\n",
      "Approach       0.106053\n",
      "Name: proportion, dtype: float64 \n",
      "\n",
      "\n",
      "Report.Status \n",
      " Report.Status\n",
      "Probable Cause                                                                  0.748488\n",
      "Foreign                                                                         0.024229\n",
      "<br /><br />                                                                    0.002024\n",
      "Factual                                                                         0.001757\n",
      "The pilot's failure to maintain directional control during the landing roll.    0.000679\n",
      "Name: proportion, dtype: float64 \n",
      "\n",
      "\n",
      "Publication.Date \n",
      " Publication.Date\n",
      "25-09-2020    0.226564\n",
      "26-09-2020    0.023550\n",
      "03-11-2020    0.015376\n",
      "31-03-1993    0.006017\n",
      "25-11-2003    0.005272\n",
      "Name: proportion, dtype: float64 \n",
      "\n",
      "\n"
     ]
    }
   ],
   "source": [
    "#Checking for any extraneous values that may be used to replace missing data\n",
    "for col in aviation_df.columns:\n",
    "    print(col, '\\n', aviation_df[col].value_counts(normalize=True).head(), '\\n\\n')"
   ]
  },
  {
   "cell_type": "markdown",
   "id": "27a3a586-4b35-40df-9cfd-686081ff2c00",
   "metadata": {},
   "source": [
    "## Data Preparation"
   ]
  },
  {
   "cell_type": "markdown",
   "id": "bf81a5b9-d4aa-43e9-9380-91763fe87ee0",
   "metadata": {},
   "source": [
    "The aviation data set needs to be cleaned and organized so that the analysis will produce clear and accurate results. This includes dropping unnecessary columns from the dataset, dropping appropriate rows, and reformatting data. \n",
    "\n",
    "The \"Make\" column needs to be normalized, so there are no repeat values with different formats.\n",
    "\n"
   ]
  },
  {
   "cell_type": "code",
   "execution_count": 12,
   "id": "23cc2247-3ba3-4656-89f4-02b9ab727640",
   "metadata": {},
   "outputs": [],
   "source": [
    "#Normalize \"Make\" Column Data\n",
    "aviation_df['Make'] = aviation_df['Make'].str.lower().str.title()"
   ]
  },
  {
   "cell_type": "code",
   "execution_count": 13,
   "id": "43d7e2aa-b299-42d9-995f-561b0cbce3ce",
   "metadata": {},
   "outputs": [],
   "source": [
    "#Reformat Column Names to remove periods between words\n",
    "aviation_df.columns = aviation_df.columns.str.replace('.', ' ').str.title()"
   ]
  },
  {
   "cell_type": "markdown",
   "id": "5c149c33-e8c3-466d-8115-c5bb6a38e39a",
   "metadata": {},
   "source": [
    "The dataset includes incidents from 60 years ago, but this date range is too far back. Accidents from the 60's and 70's are interesting to know about, but those types of planes will not be purchased due to the age of the planes. The dataset will be sorted to only include incidents within the past 30 years to have a better understanding of the safety of current planes."
   ]
  },
  {
   "cell_type": "code",
   "execution_count": 14,
   "id": "9c55d428-144e-4d9f-aaaa-ed34619688d3",
   "metadata": {},
   "outputs": [],
   "source": [
    "#Convert Event Date to datetime object\n",
    "aviation_df['Event Date'] = pd.to_datetime(aviation_df['Event Date'])\n",
    "\n",
    "recent_aviation_df = aviation_df[aviation_df['Event Date'] > '1993-01-01'].reset_index()"
   ]
  },
  {
   "cell_type": "code",
   "execution_count": 15,
   "id": "8508c595-2e9f-4560-a1c9-aeac0678f6b2",
   "metadata": {},
   "outputs": [
    {
     "name": "stdout",
     "output_type": "stream",
     "text": [
      "<class 'pandas.core.frame.DataFrame'>\n",
      "RangeIndex: 56858 entries, 0 to 56857\n",
      "Data columns (total 32 columns):\n",
      " #   Column                  Non-Null Count  Dtype         \n",
      "---  ------                  --------------  -----         \n",
      " 0   index                   56858 non-null  int64         \n",
      " 1   Event Id                56858 non-null  object        \n",
      " 2   Investigation Type      56858 non-null  object        \n",
      " 3   Accident Number         56858 non-null  object        \n",
      " 4   Event Date              56858 non-null  datetime64[ns]\n",
      " 5   Location                56817 non-null  object        \n",
      " 6   Country                 56785 non-null  object        \n",
      " 7   Latitude                34373 non-null  object        \n",
      " 8   Longitude               34364 non-null  object        \n",
      " 9   Airport Code            33300 non-null  object        \n",
      " 10  Airport Name            34080 non-null  object        \n",
      " 11  Injury Severity         55858 non-null  object        \n",
      " 12  Aircraft Damage         54360 non-null  object        \n",
      " 13  Aircraft Category       28615 non-null  object        \n",
      " 14  Registration Number     55498 non-null  object        \n",
      " 15  Make                    56802 non-null  object        \n",
      " 16  Model                   56786 non-null  object        \n",
      " 17  Amateur Built           56757 non-null  object        \n",
      " 18  Number Of Engines       51109 non-null  float64       \n",
      " 19  Engine Type             49766 non-null  object        \n",
      " 20  Far Description         28351 non-null  object        \n",
      " 21  Schedule                7367 non-null   object        \n",
      " 22  Purpose Of Flight       50713 non-null  object        \n",
      " 23  Air Carrier             14897 non-null  object        \n",
      " 24  Total Fatal Injuries    45613 non-null  float64       \n",
      " 25  Total Serious Injuries  44549 non-null  float64       \n",
      " 26  Total Minor Injuries    45132 non-null  float64       \n",
      " 27  Total Uninjured         51084 non-null  float64       \n",
      " 28  Weather Condition       52369 non-null  object        \n",
      " 29  Broad Phase Of Flight   30007 non-null  object        \n",
      " 30  Report Status           50474 non-null  object        \n",
      " 31  Publication Date        55533 non-null  object        \n",
      "dtypes: datetime64[ns](1), float64(5), int64(1), object(25)\n",
      "memory usage: 13.9+ MB\n"
     ]
    }
   ],
   "source": [
    "recent_aviation_df.info()"
   ]
  },
  {
   "cell_type": "code",
   "execution_count": 16,
   "id": "d2ccb864-0cd8-4cff-9d87-455e6dbe9f89",
   "metadata": {},
   "outputs": [],
   "source": [
    "#Remove rows with missing data on injuries\n",
    "recent_aviation_df.dropna(axis = 0, subset = ['Total Fatal Injuries', 'Total Serious Injuries',\\\n",
    "                                              'Total Minor Injuries', 'Total Uninjured'],\\\n",
    "                                    inplace = True)\n"
   ]
  },
  {
   "cell_type": "code",
   "execution_count": 17,
   "id": "3708f397-555b-4194-833f-035bc104339e",
   "metadata": {},
   "outputs": [
    {
     "data": {
      "text/plain": [
       "Make/Model\n",
       "Cessna - 172                            978\n",
       "Cessna - 152                            791\n",
       "Cessna - 172N                           480\n",
       "Boeing - 737                            474\n",
       "Cessna - 182                            367\n",
       "Piper - PA-28-140                       354\n",
       "Cessna - 172M                           343\n",
       "Cessna - 150                            310\n",
       "Cessna - 180                            298\n",
       "Piper - PA28                            278\n",
       "Piper - PA-18-150                       271\n",
       "Cessna - 172P                           263\n",
       "Cessna - 150M                           224\n",
       "Piper - PA-28-180                       220\n",
       "Beech - A36                             216\n",
       "Bell - 206B                             216\n",
       "Piper - PA-18                           214\n",
       "Robinson - R44                          211\n",
       "Cessna - 172S                           203\n",
       "Piper - PA-28-161                       202\n",
       "Cessna - 140                            199\n",
       "Piper - PA-28-181                       195\n",
       "Cessna - 170B                           170\n",
       "Cessna - 150L                           161\n",
       "Cessna - 182P                           153\n",
       "Bell - 206                              152\n",
       "Mooney - M20J                           147\n",
       "Cirrus Design Corp - SR22               144\n",
       "Robinson Helicopter Company - R44 II    144\n",
       "Cessna - A185F                          137\n",
       "Name: count, dtype: int64"
      ]
     },
     "execution_count": 17,
     "metadata": {},
     "output_type": "execute_result"
    }
   ],
   "source": [
    "#Create new column with Make and Model data\n",
    "recent_aviation_df['Make/Model'] = recent_aviation_df['Make'] + ' - ' + recent_aviation_df['Model']\n",
    "recent_aviation_df['Make/Model'].value_counts()[0:30]"
   ]
  },
  {
   "cell_type": "code",
   "execution_count": 18,
   "id": "90ae5a8a-648f-4ab9-8e80-0834be5472d2",
   "metadata": {},
   "outputs": [
    {
     "data": {
      "text/plain": [
       "Number Of Engines\n",
       "1.0    0.847892\n",
       "2.0    0.134067\n",
       "0.0    0.009767\n",
       "4.0    0.004635\n",
       "3.0    0.003535\n",
       "8.0    0.000079\n",
       "6.0    0.000026\n",
       "Name: proportion, dtype: float64"
      ]
     },
     "execution_count": 18,
     "metadata": {},
     "output_type": "execute_result"
    }
   ],
   "source": [
    "#Count Number of Engines as percentage of incidents in dataframe\n",
    "recent_aviation_df['Number Of Engines'].value_counts(normalize = True)"
   ]
  },
  {
   "cell_type": "code",
   "execution_count": 19,
   "id": "73a57fdb-688a-462c-9ab2-dcdaf22e64dd",
   "metadata": {},
   "outputs": [],
   "source": [
    "#Ignore planes with one engine or less as they account for 85% of all incidents. \n",
    "#Create a new dataframe with airplanes that have 2 or more engines.\n",
    "big_aircraft_df = recent_aviation_df[recent_aviation_df['Number Of Engines'] >= 2].reset_index()"
   ]
  },
  {
   "cell_type": "code",
   "execution_count": 20,
   "id": "adcbdf6d-1d47-4983-a843-3919060106b4",
   "metadata": {},
   "outputs": [
    {
     "data": {
      "text/plain": [
       "Year\n",
       "1995    336\n",
       "1993    329\n",
       "1996    312\n",
       "2010    303\n",
       "1997    300\n",
       "1998    292\n",
       "1999    290\n",
       "1994    285\n",
       "2000    283\n",
       "2008    266\n",
       "2011    263\n",
       "2009    241\n",
       "2012    222\n",
       "2019    191\n",
       "2013    185\n",
       "2017    185\n",
       "2018    184\n",
       "2016    179\n",
       "2014    166\n",
       "2022    160\n",
       "2015    157\n",
       "2021    149\n",
       "2020    132\n",
       "2007     18\n",
       "2005      7\n",
       "2002      1\n",
       "Name: count, dtype: int64"
      ]
     },
     "execution_count": 20,
     "metadata": {},
     "output_type": "execute_result"
    }
   ],
   "source": [
    "#Create column with only Year of incident\n",
    "big_aircraft_df['Year'] = [year.strftime(\"%Y\") for year in big_aircraft_df['Event Date']]\n",
    "big_aircraft_df['Year'].value_counts()"
   ]
  },
  {
   "cell_type": "markdown",
   "id": "10851897-34a1-4684-a36e-0447a8061f74",
   "metadata": {},
   "source": [
    "# Exploratory Data Analysis"
   ]
  },
  {
   "cell_type": "markdown",
   "id": "725a0891-956c-4393-b5a2-282d888ac004",
   "metadata": {},
   "source": []
  },
  {
   "cell_type": "code",
   "execution_count": 21,
   "id": "f3396fe7-c4e0-4dc5-8a5b-5deeaafd2e75",
   "metadata": {},
   "outputs": [],
   "source": [
    "#Create two separate dataframes with small and large airplanes\n",
    "large_planes = big_aircraft_df[(big_aircraft_df['Make'] == 'Boeing') | (big_aircraft_df['Make'] == 'Airbus')]\n",
    "small_planes = big_aircraft_df[(big_aircraft_df['Make'] == 'Cessna') | (big_aircraft_df['Make'] == 'Piper') \\\n",
    "                                                                     | (big_aircraft_df['Make'] == 'Beech')]"
   ]
  },
  {
   "cell_type": "code",
   "execution_count": 22,
   "id": "a378c06e-3a33-4b8c-acea-580b42dacbc5",
   "metadata": {},
   "outputs": [],
   "source": [
    "#Group by Make/Model to get average fatality and injury rates. \n",
    "large_planes_injuries = large_planes.groupby('Make/Model')\\\n",
    "            [['Total Fatal Injuries','Total Serious Injuries','Total Minor Injuries','Total Uninjured']].agg('mean')\n",
    "large_planes_injuries['Total Number of Incidents'] = large_planes['Make/Model'].value_counts()\n",
    "top_large_planes_injuries = large_planes_injuries.sort_values('Total Number of Incidents', ascending = False)[0:10]"
   ]
  },
  {
   "cell_type": "code",
   "execution_count": 23,
   "id": "eb77c5c0-b6dd-460e-9f88-a9534dd46c06",
   "metadata": {},
   "outputs": [
    {
     "data": {
      "image/png": "[encoded data removed]",
      "text/plain": [
       "<Figure size 640x480 with 1 Axes>"
      ]
     },
     "metadata": {},
     "output_type": "display_data"
    }
   ],
   "source": [
    "#Plot average number of fatal injuries.\n",
    "ax = top_large_planes_injuries.plot.bar(y=('Total Fatal Injuries'),\\\n",
    "                     legend = False,\\\n",
    "                     xlabel = 'Make/Model',\\\n",
    "                     ylabel = 'Average Number of Fatal Injuries per Crash',\\\n",
    "                     title = 'Average Number of Fatal Injuries per Crash per Large Plane Models',\\\n",
    "                     )\n",
    "ax.bar_label(ax.containers[0]);"
   ]
  },
  {
   "cell_type": "code",
   "execution_count": 24,
   "id": "f99f7633-7d88-4004-962b-f0e9456e1204",
   "metadata": {},
   "outputs": [],
   "source": [
    "#Group by Make/Model to get average fatality and injury rates. \n",
    "small_planes_injuries = small_planes.groupby('Make/Model')\\\n",
    "            [['Total Fatal Injuries','Total Serious Injuries','Total Minor Injuries','Total Uninjured']].agg('mean')\n",
    "small_planes_injuries['Total Number of Incidents'] = small_planes['Make/Model'].value_counts()\n",
    "top_small_planes_injuries = small_planes_injuries.sort_values('Total Number of Incidents', ascending = False)[0:30]"
   ]
  },
  {
   "cell_type": "code",
   "execution_count": 25,
   "id": "a4dd965b-d68b-4476-95e8-6c08da135344",
   "metadata": {},
   "outputs": [
    {
     "data": {
      "image/png": "[encoded data removed]",
      "text/plain": [
       "<Figure size 640x480 with 1 Axes>"
      ]
     },
     "metadata": {},
     "output_type": "display_data"
    }
   ],
   "source": [
    "#Plot average number of fatal injuries.\n",
    "ax = top_small_planes_injuries.plot.bar(y=('Total Fatal Injuries'),\\\n",
    "                     legend = False,\\\n",
    "                     xlabel = 'Make/Model',\\\n",
    "                     ylabel = 'Average Number of Fatal Injuries per Crash',\\\n",
    "                     title = 'Average Number of Fatal Injuries per Crash per Small Plane Model',\\\n",
    "                     )\n",
    "ax.bar_label(ax.containers[0]);"
   ]
  },
  {
   "cell_type": "code",
   "execution_count": 38,
   "id": "858d57a8-53e4-471e-8378-de43dc942359",
   "metadata": {},
   "outputs": [],
   "source": [
    "boeing = large_planes[large_planes['Make'] == 'Boeing']\n",
    "airbus = large_planes[large_planes['Make'] == 'Airbus']\n",
    "cessna = small_planes[small_planes['Make'] == 'Cessna']\n",
    "beech = small_planes[small_planes['Make'] == 'Beech']\n",
    "piper = small_planes[small_planes['Make'] == 'Piper']"
   ]
  },
  {
   "cell_type": "code",
   "execution_count": 39,
   "id": "91221dc9-e1cb-4ae0-b9f9-8d73e18f324f",
   "metadata": {},
   "outputs": [],
   "source": [
    "boeing_crashes_yr = boeing.value_counts('Year').sort_index()\n",
    "airbus_crashes_yr = airbus.value_counts('Year').sort_index()\n",
    "cessna_crashes_yr = cessna.value_counts('Year').sort_index()\n",
    "beech_crashes_yr = beech.value_counts('Year').sort_index()\n",
    "piper_crashes_yr = piper.value_counts('Year').sort_index()\n",
    "\n"
   ]
  },
  {
   "cell_type": "code",
   "execution_count": 40,
   "id": "8ffbab11-90d4-454d-8d4d-801f2040c927",
   "metadata": {},
   "outputs": [
    {
     "data": {
      "text/plain": [
       "Year\n",
       "1993    32\n",
       "1994    23\n",
       "1995    40\n",
       "1996    36\n",
       "1997    34\n",
       "        ..\n",
       "2018    27\n",
       "2019    25\n",
       "2020    21\n",
       "2021    21\n",
       "2022    18\n",
       "Name: count, Length: 112, dtype: int64"
      ]
     },
     "execution_count": 40,
     "metadata": {},
     "output_type": "execute_result"
    }
   ],
   "source": [
    "crashes_yr = pd.concat([boeing_crashes_yr, airbus_crashes_yr, cessna_crashes_yr,beech_crashes_yr,piper_crashes_yr],axis = 0)\n",
    "crashes_yr"
   ]
  },
  {
   "cell_type": "code",
   "execution_count": 44,
   "id": "782906f3-7828-4eeb-81d8-7beb3fceb259",
   "metadata": {},
   "outputs": [
    {
     "name": "stderr",
     "output_type": "stream",
     "text": [
      "No artists with labels found to put in legend.  Note that artists whose label start with an underscore are ignored when legend() is called with no argument.\n"
     ]
    },
    {
     "data": {
      "image/png": "[encoded data removed]",
      "text/plain": [
       "<Figure size 640x480 with 1 Axes>"
      ]
     },
     "metadata": {},
     "output_type": "display_data"
    }
   ],
   "source": [
    "plt.plot(boeing_crashes_yr)\n",
    "plt.plot(airbus_crashes_yr)\n",
    "plt.plot(cessna_crashes_yr)\n",
    "plt.plot(beech_crashes_yr)\n",
    "plt.plot(piper_crashes_yr)\n",
    "plt.xticks(rotation=45);"
   ]
  },
  {
   "cell_type": "markdown",
   "id": "bb435ad5-5585-478c-9c8f-bb5bceef07fc",
   "metadata": {},
   "source": [
    "# Conclusion"
   ]
  },
  {
   "cell_type": "markdown",
   "id": "0588a835-8213-485b-9df4-baed2b5a75e5",
   "metadata": {},
   "source": [
    "The analysis leads to the following three recommendations for the Head of Aviation:\n",
    "\n",
    "  1) Since 1923, approximately 85% of airplane incidents are planes with single engines, therefore I recommend only considering air crafts with 2 or more engines.\n",
    "  2) For large planes that can service commercial flights, the Boeing 757 and Airbus A319 have had zero deaths. For small planes that can service more private flights and smaller commercial flights, the Beech 1900D and Cessna 402 have the lowest fatality rate.\n",
    "  3) "
   ]
  },
  {
   "cell_type": "markdown",
   "id": "7b6f2b9a-031c-46e2-8591-b17b0f1d3c75",
   "metadata": {},
   "source": [
    "## Limitations"
   ]
  },
  {
   "cell_type": "markdown",
   "id": "ed391abd-89c0-4dee-8ea6-383539d058a1",
   "metadata": {},
   "source": []
  },
  {
   "cell_type": "markdown",
   "id": "e4696c49-fa2a-4351-b398-1a98513f4a2b",
   "metadata": {},
   "source": [
    "## Recommendations "
   ]
  },
  {
   "cell_type": "markdown",
   "id": "1b2802ea-07cf-4b03-98c2-6ec9ea913d8f",
   "metadata": {},
   "source": []
  },
  {
   "cell_type": "markdown",
   "id": "92c75d53-c4b6-45df-bf2c-2fe5f5cb70dc",
   "metadata": {},
   "source": [
    "## Next Steps"
   ]
  },
  {
   "cell_type": "markdown",
   "id": "da9c2046-dcf4-49d5-97d3-821a93af6f7b",
   "metadata": {},
   "source": [
    "Study financial cost of owning/operting these planes. What are the maintencance costs? What is profitabiity?"
   ]
  },
  {
   "cell_type": "code",
   "execution_count": null,
   "id": "f3a2f3c3-c045-48ed-95ae-919273869fd6",
   "metadata": {},
   "outputs": [],
   "source": []
  }
 ],
 "metadata": {
  "kernelspec": {
   "display_name": "Python (my-learn-env)",
   "language": "python",
   "name": "learn-env"
  },
  "language_info": {
   "codemirror_mode": {
    "name": "ipython",
    "version": 3
   },
   "file_extension": ".py",
   "mimetype": "text/x-python",
   "name": "python",
   "nbconvert_exporter": "python",
   "pygments_lexer": "ipython3",
   "version": "3.8.5"
  }
 },
 "nbformat": 4,
 "nbformat_minor": 5
}
